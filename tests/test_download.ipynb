{
 "cells": [
  {
   "cell_type": "code",
   "execution_count": 34,
   "id": "bd25d1e6",
   "metadata": {},
   "outputs": [],
   "source": [
    "import requests, json, os\n",
    "import numpy as np\n",
    "import pandas as pd\n",
    "from datetime import datetime, timedelta\n",
    "from typing import Dict, List, Optional\n",
    "import time\n",
    "from pathlib import Path\n",
    "\n",
    "from dataDownload import ClimateDataDownloader\n"
   ]
  },
  {
   "cell_type": "code",
   "execution_count": 38,
   "id": "249d3f7d",
   "metadata": {},
   "outputs": [
    {
     "name": "stdout",
     "output_type": "stream",
     "text": [
      "📅 Fecha inicio: 2025-07-24\n",
      "📅 Fecha fin: 2025-07-31\n",
      "⏰ Horario: 6:00 a 18:00\n"
     ]
    }
   ],
   "source": [
    "end_date = datetime.now().strftime(\"%Y-%m-%d\")\n",
    "start_date = (datetime.now() - timedelta(days=7)).strftime(\"%Y-%m-%d\")\n",
    "\n",
    "# Opción 2: Fechas específicas (recomendado para pruebas)\n",
    "# start_date = \"2023-07-01\"\n",
    "# end_date = \"2023-07-07\"\n",
    "\n",
    "# Configurar horario (6:00 AM a 6:00 PM)\n",
    "start_hour = 6\n",
    "end_hour = 18\n",
    "\n",
    "print(f\"📅 Fecha inicio: {start_date}\")\n",
    "print(f\"📅 Fecha fin: {end_date}\")\n",
    "print(f\"⏰ Horario: {start_hour}:00 a {end_hour}:00\")"
   ]
  },
  {
   "cell_type": "code",
   "execution_count": 41,
   "id": "4be3828b",
   "metadata": {},
   "outputs": [
    {
     "ename": "TypeError",
     "evalue": "ClimateDataDownloader.__init__() got an unexpected keyword argument 'start_date'",
     "output_type": "error",
     "traceback": [
      "\u001b[0;31m---------------------------------------------------------------------------\u001b[0m",
      "\u001b[0;31mTypeError\u001b[0m                                 Traceback (most recent call last)",
      "Cell \u001b[0;32mIn[41], line 1\u001b[0m\n\u001b[0;32m----> 1\u001b[0m downloader \u001b[38;5;241m=\u001b[39m \u001b[43mClimateDataDownloader\u001b[49m\u001b[43m(\u001b[49m\n\u001b[1;32m      2\u001b[0m \u001b[43m    \u001b[49m\u001b[43mstart_date\u001b[49m\u001b[38;5;241;43m=\u001b[39;49m\u001b[43mstart_date\u001b[49m\u001b[43m,\u001b[49m\n\u001b[1;32m      3\u001b[0m \u001b[43m    \u001b[49m\u001b[43mend_date\u001b[49m\u001b[38;5;241;43m=\u001b[39;49m\u001b[43mend_date\u001b[49m\u001b[43m,\u001b[49m\n\u001b[1;32m      4\u001b[0m \u001b[43m    \u001b[49m\u001b[43mstart_hour\u001b[49m\u001b[38;5;241;43m=\u001b[39;49m\u001b[43mstart_hour\u001b[49m\u001b[43m,\u001b[49m\n\u001b[1;32m      5\u001b[0m \u001b[43m    \u001b[49m\u001b[43mend_hour\u001b[49m\u001b[38;5;241;43m=\u001b[39;49m\u001b[43mend_hour\u001b[49m\n\u001b[1;32m      6\u001b[0m \u001b[43m)\u001b[49m\n\u001b[1;32m      8\u001b[0m \u001b[38;5;66;03m# Descargar todos los datos\u001b[39;00m\n\u001b[1;32m      9\u001b[0m \u001b[38;5;66;03m#print(\"�� Iniciando descarga...\")\u001b[39;00m\n\u001b[1;32m     10\u001b[0m \u001b[38;5;66;03m#data_dict = downloader.download_all_data()\u001b[39;00m\n",
      "\u001b[0;31mTypeError\u001b[0m: ClimateDataDownloader.__init__() got an unexpected keyword argument 'start_date'"
     ]
    }
   ],
   "source": [
    "downloader = ClimateDataDownloader(\n",
    "    start_date=start_date,\n",
    "    end_date=end_date,\n",
    "    start_hour=start_hour,\n",
    "    end_hour=end_hour\n",
    ")\n",
    "\n",
    "# Descargar todos los datos\n",
    "#print(\"�� Iniciando descarga...\")\n",
    "#data_dict = downloader.download_all_data()"
   ]
  }
 ],
 "metadata": {
  "kernelspec": {
   "display_name": "venv",
   "language": "python",
   "name": "python3"
  },
  "language_info": {
   "codemirror_mode": {
    "name": "ipython",
    "version": 3
   },
   "file_extension": ".py",
   "mimetype": "text/x-python",
   "name": "python",
   "nbconvert_exporter": "python",
   "pygments_lexer": "ipython3",
   "version": "3.10.18"
  }
 },
 "nbformat": 4,
 "nbformat_minor": 5
}
