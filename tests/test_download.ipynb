{
 "cells": [
  {
   "cell_type": "code",
   "execution_count": 3,
   "id": "bd25d1e6",
   "metadata": {},
   "outputs": [],
   "source": [
    "import requests, json, os\n",
    "import numpy as np\n",
    "import pandas as pd\n",
    "from datetime import datetime, timedelta\n",
    "from typing import Dict, List, Optional\n",
    "import time\n",
    "from pathlib import Path\n",
    "\n",
    "from dataDownload import ClimateDataDownloader\n"
   ]
  },
  {
   "cell_type": "code",
   "execution_count": 4,
   "id": "249d3f7d",
   "metadata": {},
   "outputs": [
    {
     "name": "stdout",
     "output_type": "stream",
     "text": [
      "📅 Fecha inicio: 2025-08-23\n",
      "📅 Fecha fin: 2025-08-30\n",
      "⏰ Horario: 0:00 a 24:00\n"
     ]
    }
   ],
   "source": [
    "end_date = datetime.now().strftime(\"%Y-%m-%d\")\n",
    "start_date = (datetime.now() - timedelta(days=7)).strftime(\"%Y-%m-%d\")\n",
    "\n",
    "# Opción 2: Fechas específicas (recomendado para pruebas)\n",
    "# start_date = \"2023-07-01\"\n",
    "# end_date = \"2023-07-07\"\n",
    "\n",
    "# Configurar horario (6:00 AM a 6:00 PM)\n",
    "start_hour = 0\n",
    "end_hour = 24\n",
    "\n",
    "print(f\"📅 Fecha inicio: {start_date}\")\n",
    "print(f\"📅 Fecha fin: {end_date}\")\n",
    "print(f\"⏰ Horario: {start_hour}:00 a {end_hour}:00\")"
   ]
  },
  {
   "cell_type": "code",
   "execution_count": 5,
   "id": "4be3828b",
   "metadata": {},
   "outputs": [
    {
     "name": "stdout",
     "output_type": "stream",
     "text": [
      "�� Iniciando descarga...\n",
      "🌬️ Iniciando descarga de datos climáticos para La Guajira\n",
      "📅 Período: 2025-08-23 a 2025-08-30\n",
      "⏰ Horario: 0:00 a 24:00\n",
      "============================================================\n",
      "\n",
      " Procesando: Riohacha\n",
      "📡 Descargando datos para Riohacha...\n",
      "✅ Datos obtenidos para Riohacha: 192 registros\n",
      "💾 Guardado: data/raw/open_meteo_riohacha_2025-08-23_2025-08-30.csv\n",
      "\n",
      " Procesando: Maicao\n",
      "📡 Descargando datos para Maicao...\n",
      "✅ Datos obtenidos para Maicao: 192 registros\n",
      "💾 Guardado: data/raw/open_meteo_maicao_2025-08-23_2025-08-30.csv\n",
      "\n",
      " Procesando: Uribia\n",
      "📡 Descargando datos para Uribia...\n",
      "✅ Datos obtenidos para Uribia: 192 registros\n",
      "💾 Guardado: data/raw/open_meteo_uribia_2025-08-23_2025-08-30.csv\n",
      "\n",
      " Procesando: Manaure\n",
      "📡 Descargando datos para Manaure...\n",
      "✅ Datos obtenidos para Manaure: 192 registros\n",
      "💾 Guardado: data/raw/open_meteo_manaure_2025-08-23_2025-08-30.csv\n",
      "\n",
      " Procesando: Fonseca\n",
      "📡 Descargando datos para Fonseca...\n",
      "✅ Datos obtenidos para Fonseca: 192 registros\n",
      "💾 Guardado: data/raw/open_meteo_fonseca_2025-08-23_2025-08-30.csv\n",
      "\n",
      " Procesando: San_Juan_del_Cesar\n",
      "📡 Descargando datos para San_Juan_del_Cesar...\n",
      "✅ Datos obtenidos para San_Juan_del_Cesar: 192 registros\n",
      "💾 Guardado: data/raw/open_meteo_san_juan_del_cesar_2025-08-23_2025-08-30.csv\n",
      "\n",
      " Procesando: Albania\n",
      "📡 Descargando datos para Albania...\n",
      "✅ Datos obtenidos para Albania: 192 registros\n",
      "💾 Guardado: data/raw/open_meteo_albania_2025-08-23_2025-08-30.csv\n",
      "\n",
      " Procesando: Barrancas\n",
      "📡 Descargando datos para Barrancas...\n",
      "✅ Datos obtenidos para Barrancas: 192 registros\n",
      "💾 Guardado: data/raw/open_meteo_barrancas_2025-08-23_2025-08-30.csv\n",
      "\n",
      " Procesando: Distraccion\n",
      "📡 Descargando datos para Distraccion...\n",
      "✅ Datos obtenidos para Distraccion: 192 registros\n",
      "💾 Guardado: data/raw/open_meteo_distraccion_2025-08-23_2025-08-30.csv\n",
      "\n",
      " Procesando: El_Molino\n",
      "📡 Descargando datos para El_Molino...\n",
      "✅ Datos obtenidos para El_Molino: 192 registros\n",
      "💾 Guardado: data/raw/open_meteo_el_molino_2025-08-23_2025-08-30.csv\n",
      "\n",
      " Procesando: Hatonuevo\n",
      "📡 Descargando datos para Hatonuevo...\n",
      "✅ Datos obtenidos para Hatonuevo: 192 registros\n",
      "💾 Guardado: data/raw/open_meteo_hatonuevo_2025-08-23_2025-08-30.csv\n",
      "\n",
      " Procesando: La_Jagua_del_Pilar\n",
      "📡 Descargando datos para La_Jagua_del_Pilar...\n",
      "✅ Datos obtenidos para La_Jagua_del_Pilar: 192 registros\n",
      "💾 Guardado: data/raw/open_meteo_la_jagua_del_pilar_2025-08-23_2025-08-30.csv\n",
      "\n",
      " Procesando: Mingueo\n",
      "📡 Descargando datos para Mingueo...\n",
      "✅ Datos obtenidos para Mingueo: 192 registros\n",
      "💾 Guardado: data/raw/open_meteo_mingueo_2025-08-23_2025-08-30.csv\n",
      "\n",
      " Resumen:\n",
      "   - Municipios procesados: 13\n",
      "   - Datos obtenidos: 13\n",
      "   - Archivos guardados: 13\n"
     ]
    }
   ],
   "source": [
    "downloader = ClimateDataDownloader(\n",
    "    start_date=start_date,\n",
    "    end_date=end_date,\n",
    "    start_hour=start_hour,\n",
    "    end_hour=end_hour\n",
    ")\n",
    "\n",
    "# Descargar todos los datos\n",
    "print(\"�� Iniciando descarga...\")\n",
    "data_dict = downloader.download_all_data()"
   ]
  },
  {
   "cell_type": "code",
   "execution_count": null,
   "id": "03792633",
   "metadata": {},
   "outputs": [
    {
     "name": "stdout",
     "output_type": "stream",
     "text": [
      "🌬️ Descargando datos de velocidad del viento para: Riohacha\n",
      "📅 Período: 2025-08-23 a 2025-08-30\n",
      "⏰ Horario: 0:00 a 24:00\n",
      "==================================================\n",
      "📍 Usando coordenadas predefinidas para Riohacha: (11.5447, -72.9072)\n",
      "🌬️ Descargando datos de viento para Riohacha...\n",
      "✅ Datos de viento obtenidos para Riohacha: 192 registros\n",
      "💾 Datos de viento guardados: data/raw/wind_data_riohacha_2025-08-23_2025-08-30.csv\n",
      "\n",
      "✅ Descarga de datos de viento completada para Riohacha\n",
      "   - Registros obtenidos: 192\n",
      "   - Velocidad promedio: 17.5 km/h\n",
      "   - Velocidad máxima: 33.2 km/h\n",
      "   - Archivo guardado: data/raw/wind_data_riohacha_2025-08-23_2025-08-30.csv\n"
     ]
    }
   ],
   "source": [
    "result = downloader.download_single_city(\"Riohacha\")"
   ]
  }
 ],
 "metadata": {
  "kernelspec": {
   "display_name": "venv",
   "language": "python",
   "name": "python3"
  },
  "language_info": {
   "codemirror_mode": {
    "name": "ipython",
    "version": 3
   },
   "file_extension": ".py",
   "mimetype": "text/x-python",
   "name": "python",
   "nbconvert_exporter": "python",
   "pygments_lexer": "ipython3",
   "version": "3.10.18"
  }
 },
 "nbformat": 4,
 "nbformat_minor": 5
}
